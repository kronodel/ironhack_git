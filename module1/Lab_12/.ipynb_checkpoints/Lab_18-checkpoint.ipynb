{
 "cells": [
  {
   "cell_type": "markdown",
   "metadata": {},
   "source": [
    "# Lab 18 - Week 1"
   ]
  },
  {
   "cell_type": "markdown",
   "metadata": {},
   "source": [
    "Please, download the file applestore.csv. Install MySQL/Postgresql on your computer. Create a database Upload the file as a new table of your database\n",
    "\n",
    "Use the data table to query the data about Apple Store Apps and answer the following questions:\n",
    "\n",
    "1. What are the different genres?\n",
    "\n",
    "2. Which is the genre with the most apps rated?\n",
    "\n",
    "3. Which is the genre with most apps?\n",
    "\n",
    "4. Which is the one with least?\n",
    "\n",
    "5. Find the top 10 apps most rated.\n",
    "\n",
    "6. Find the top 10 apps best rated by users.\n",
    "\n",
    "7. Take a look at the data you retrieved in question 5. Give some insights.\n",
    "\n",
    "8. Take a look at the data you retrieved in question 6. Give some insights.\n",
    "\n",
    "9. Now compare the data from questions 5 and 6. What do you see?\n",
    "\n",
    "10. How could you take the top 3 regarding both user ratings and number of votes?\n",
    "\n",
    "11. Do people care about the price of an app? Do some queries, comment why are you doing them and the results you retrieve. What is your conclusion?"
   ]
  },
  {
   "cell_type": "markdown",
   "metadata": {},
   "source": [
    "1. What are the different genres?\n",
    "\n",
    "there are 22 different genres : prime_genre\n",
    "Games,\n",
    "Productivity,\n",
    "Weather,\n",
    "Shopping,\n",
    "Reference,\n",
    "Finance,\n",
    "Music,\n",
    "Utilities,\n",
    "Travel,\n",
    "Social Networking,\n",
    "Sports,\n",
    "Business,\n",
    "Photo & Video,\n",
    "Navigation,\n",
    "Entertainment,\n",
    "Education,\n",
    "Lifestyle,\n",
    "Food & Drink,\n",
    "News, \n",
    "Health & Fitness, \n",
    "Medical, \n",
    "Book,"
   ]
  },
  {
   "cell_type": "markdown",
   "metadata": {},
   "source": [
    "Which is the genre with the most apps rated?\n",
    "\n",
    "It's Games (169)"
   ]
  },
  {
   "cell_type": "code",
   "execution_count": null,
   "metadata": {},
   "outputs": [],
   "source": []
  }
 ],
 "metadata": {
  "kernelspec": {
   "display_name": "Python 3",
   "language": "python",
   "name": "python3"
  },
  "language_info": {
   "codemirror_mode": {
    "name": "ipython",
    "version": 3
   },
   "file_extension": ".py",
   "mimetype": "text/x-python",
   "name": "python",
   "nbconvert_exporter": "python",
   "pygments_lexer": "ipython3",
   "version": "3.8.3"
  }
 },
 "nbformat": 4,
 "nbformat_minor": 4
}
