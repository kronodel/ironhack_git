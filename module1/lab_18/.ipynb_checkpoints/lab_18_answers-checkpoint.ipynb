{
 "cells": [
  {
   "cell_type": "markdown",
   "metadata": {},
   "source": [
    "# Lab 18 - Week 1"
   ]
  },
  {
   "cell_type": "markdown",
   "metadata": {},
   "source": [
    "Please, download the file applestore.csv. Install MySQL/Postgresql on your computer. Create a database Upload the file as a new table of your database\n",
    "\n",
    "Use the data table to query the data about Apple Store Apps and answer the following questions:\n",
    "\n",
    "1. What are the different genres?\n",
    "\n",
    "2. Which is the genre with the most apps rated?\n",
    "\n",
    "3. Which is the genre with most apps?\n",
    "\n",
    "4. Which is the one with least?\n",
    "\n",
    "5. Find the top 10 apps most rated.\n",
    "\n",
    "6. Find the top 10 apps best rated by users.\n",
    "\n",
    "7. Take a look at the data you retrieved in question 5. Give some insights.\n",
    "\n",
    "8. Take a look at the data you retrieved in question 6. Give some insights.\n",
    "\n",
    "9. Now compare the data from questions 5 and 6. What do you see?\n",
    "\n",
    "10. How could you take the top 3 regarding both user ratings and number of votes?\n",
    "\n",
    "11. Do people care about the price of an app? Do some queries, comment why are you doing them and the results you retrieve. What is your conclusion?"
   ]
  },
  {
   "cell_type": "markdown",
   "metadata": {},
   "source": [
    "1. What are the different genres?\n",
    "\n",
    "there are 22 different genres : prime_genre\n",
    "Games,\n",
    "Productivity,\n",
    "Weather,\n",
    "Shopping,\n",
    "Reference,\n",
    "Finance,\n",
    "Music,\n",
    "Utilities,\n",
    "Travel,\n",
    "Social Networking,\n",
    "Sports,\n",
    "Business,\n",
    "Photo & Video,\n",
    "Navigation,\n",
    "Entertainment,\n",
    "Education,\n",
    "Lifestyle,\n",
    "Food & Drink,\n",
    "News, \n",
    "Health & Fitness, \n",
    "Medical, \n",
    "Book,"
   ]
  },
  {
   "cell_type": "markdown",
   "metadata": {},
   "source": [
    "2. Which is the genre with the most apps rated?\n",
    "\n",
    "It's Games (169)"
   ]
  },
  {
   "cell_type": "markdown",
   "metadata": {},
   "source": [
    "3. Which is the genre with most apps?\n",
    "\n",
    "It's Games (169)"
   ]
  },
  {
   "cell_type": "markdown",
   "metadata": {},
   "source": [
    "4. Which is the one with least?\n",
    "\n",
    "Medical (1)\n",
    "\n"
   ]
  },
  {
   "attachments": {},
   "cell_type": "markdown",
   "metadata": {},
   "source": [
    "5. Find the top 10 apps most rated.\n",
    "\n",
    "1 - Facebook\n",
    "2 - Pandora - Music & Radio\n",
    "3 - Pinterest\n",
    "4 - Bible\n",
    "5 - Angry Birds\n",
    "6 - Fruit Ninja Classic\n",
    "7 - Solitaire\n",
    "8 - PAC-MAN\n",
    "9 - Calorie Counter & Diet Tracker by MyFitnessPal\n",
    "10 - The Weather Channel: Forecast\n",
    "\n",
    "6. Find the top 10 apps best rated by users.\n",
    "\n",
    "1 - J&J Official 7 Minute Workout;\n",
    "2 - Fragment's Note;\n",
    "3 - Dragon Island Blue;\n",
    "4 - Fieldrunners 2;\n",
    "5 - Sworkit - Custom Workouts for Exercise & Fitness;\n",
    "6 - Pumped: BMX;\n",
    "7 - Headspace;\n",
    "8 - Timeshare+;\n",
    "9 - Infect Them All : Vampires;\n",
    "10 - Daily Audio Bible App;\n",
    "\n",
    "7. Take a look at the data you retrieved in question 5. Give some insights.\n",
    "\n",
    "We can see that the top 10 apps most rated are not the best rated apps. Maybe it's easier to have a good rate with less rates.\n",
    "The top 10 most rated apps are mostly social media, music and weather related, whereas the top 10 best rated apps are mostly focused on health, fitness, productivity and gaming. It's possible that apps in these latter categories appeal to smaller but more specific and engaged user bases, resulting in higher ratings despite receiving fewer ratings overall. Additionally, it could also be that the apps that have more rating tend to be more popular, but that doesn't mean that it's the best app, it's just more known. \n",
    "\n",
    "8. Take a look at the data you retrieved in question 6. Give some insights.\n",
    "\n",
    "9. Now compare the data from questions 5 and 6. What do you see?\n",
    "\n",
    "10. How could you take the top 3 regarding both user ratings and number of votes?\n",
    "\n",
    "1 - Pinterest\t1061624\t4.5\n",
    "2 - Bible 985920\t4.5\n",
    "3 - Angry birds 824451\t4.5\n",
    "\n",
    "11. Do people care about the price of an app? Do some queries, comment why are you doing them and the results you retrieve. What is your conclusion?\n"
   ]
  },
  {
   "cell_type": "code",
   "execution_count": null,
   "metadata": {},
   "outputs": [],
   "source": []
  }
 ],
 "metadata": {
  "kernelspec": {
   "display_name": "Python 3",
   "language": "python",
   "name": "python3"
  },
  "language_info": {
   "codemirror_mode": {
    "name": "ipython",
    "version": 3
   },
   "file_extension": ".py",
   "mimetype": "text/x-python",
   "name": "python",
   "nbconvert_exporter": "python",
   "pygments_lexer": "ipython3",
   "version": "3.8.3"
  }
 },
 "nbformat": 4,
 "nbformat_minor": 4
}
