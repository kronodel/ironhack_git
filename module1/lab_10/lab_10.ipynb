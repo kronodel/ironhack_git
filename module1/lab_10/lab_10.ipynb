{
 "cells": [
  {
   "cell_type": "code",
   "execution_count": 16,
   "metadata": {},
   "outputs": [],
   "source": [
    "#[Counting Sheeps] (https://www.codewars.com/kata/54edbc7200b811e956000556)\n",
    "\n",
    "def count_sheeps(sheep_array):\n",
    "    count = 0\n",
    "    for i in sheep_array:\n",
    "        if i == True:\n",
    "            count += 1\n",
    "    return count"
   ]
  },
  {
   "cell_type": "code",
   "execution_count": 20,
   "metadata": {},
   "outputs": [
    {
     "data": {
      "text/plain": [
       "['Keep', 'Keep', 'Keep']"
      ]
     },
     "execution_count": 20,
     "metadata": {},
     "output_type": "execute_result"
    }
   ],
   "source": [
    "#[Removing elements] (https://www.codewars.com/kata/5769b3802ae6f8e4890009d2)\n",
    "\n",
    "def remove_every_other(my_list):\n",
    "    # Your code here!\n",
    "    keep_list = []\n",
    "    for words in my_list :\n",
    "        if my_list.index(words)%2 == 0 :\n",
    "            keep_list.append(words)\n",
    "    return keep_list\n",
    "    pass\n",
    "\n",
    "my_list = [\"Keep\", \"Remove\", \"Keep\", \"Remove\", \"Keep\"]\n",
    "\n",
    "remove_every_other(my_list)\n"
   ]
  },
  {
   "cell_type": "code",
   "execution_count": null,
   "metadata": {},
   "outputs": [],
   "source": [
    "#Convert number to reversed array of digits\n",
    "\n",
    "def digitize(n):\n",
    "    num_str = str(n)\n",
    "    num_list = [int(i) for i in num_str]\n",
    "    return num_list[::-1]\n",
    "    return"
   ]
  },
  {
   "cell_type": "code",
   "execution_count": 38,
   "metadata": {},
   "outputs": [],
   "source": [
    "# [Square every digit] (https://www.codewars.com/kata/546e2562b03326a88e000020)\n",
    "\n",
    "def square_digits(num):\n",
    "    num = str(num)\n",
    "    x = \"\"\n",
    "    for i in num:\n",
    "        i = int(i)\n",
    "        i = i**2\n",
    "        x += str(i)\n",
    "    return int(x)"
   ]
  },
  {
   "cell_type": "code",
   "execution_count": null,
   "metadata": {},
   "outputs": [],
   "source": [
    "# Counting Total Occurence Of Specific Digits\n",
    "\n",
    "# I don't understand the instructions "
   ]
  }
 ],
 "metadata": {
  "kernelspec": {
   "display_name": "Python 3",
   "language": "python",
   "name": "python3"
  },
  "language_info": {
   "codemirror_mode": {
    "name": "ipython",
    "version": 3
   },
   "file_extension": ".py",
   "mimetype": "text/x-python",
   "name": "python",
   "nbconvert_exporter": "python",
   "pygments_lexer": "ipython3",
   "version": "3.8.3"
  }
 },
 "nbformat": 4,
 "nbformat_minor": 4
}
