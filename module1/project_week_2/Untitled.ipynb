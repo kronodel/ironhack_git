{
 "cells": [
  {
   "cell_type": "code",
   "execution_count": null,
   "metadata": {},
   "outputs": [],
   "source": [
    "import pandas as pd\n",
    "\n",
    "# lire les données à partir du fichier csv\n",
    "df = pd.read_csv('nom_fichier.csv')\n",
    "\n",
    "# Transposez les données\n",
    "df = df.T\n",
    "\n",
    "# renommer les colonnes\n",
    "df.columns = df.iloc[0]\n",
    "\n",
    "# déplacer les années dans une colonne\n",
    "df['année'] = df.index\n",
    "\n",
    "# enlever les lignes vides\n",
    "df = df.dropna(axis=0, how='all')\n",
    "\n",
    "# enregistrer les données dans un nouveau fichier csv\n",
    "df.to_csv('nom_fichier_normalisé.csv')\n"
   ]
  }
 ],
 "metadata": {
  "kernelspec": {
   "display_name": "Python 3",
   "language": "python",
   "name": "python3"
  },
  "language_info": {
   "codemirror_mode": {
    "name": "ipython",
    "version": 3
   },
   "file_extension": ".py",
   "mimetype": "text/x-python",
   "name": "python",
   "nbconvert_exporter": "python",
   "pygments_lexer": "ipython3",
   "version": "3.8.3"
  }
 },
 "nbformat": 4,
 "nbformat_minor": 4
}
