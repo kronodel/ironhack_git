{
 "cells": [
  {
   "cell_type": "markdown",
   "metadata": {},
   "source": [
    "# Loops\n",
    "\n",
    "Complete the following set of exercises to solidify your knowledge for Loops."
   ]
  },
  {
   "cell_type": "markdown",
   "metadata": {},
   "source": [
    "#### 1. Print first 10 natural numbers using while loop"
   ]
  },
  {
   "cell_type": "code",
   "execution_count": 1,
   "metadata": {},
   "outputs": [
    {
     "name": "stdout",
     "output_type": "stream",
     "text": [
      "0\n",
      "1\n",
      "2\n",
      "3\n",
      "4\n",
      "5\n",
      "6\n",
      "7\n",
      "8\n",
      "9\n"
     ]
    }
   ],
   "source": [
    "for x in range (0,10) :\n",
    "    print(x)"
   ]
  },
  {
   "cell_type": "markdown",
   "metadata": {},
   "source": [
    "#### 2. Display numbers from a list using loop\n",
    "Write a program to display only those numbers from a list that satisfy the following conditions\n",
    "\n",
    "The number must be divisible by five\n",
    "\n",
    "If the number is greater than 150, then skip it and move to the next number\n",
    "\n",
    "If the number is greater than 500, then stop the loop\n",
    "\n",
    "numbers = [12, 75, 150, 180, 145, 525, 50]"
   ]
  },
  {
   "cell_type": "code",
   "execution_count": 8,
   "metadata": {},
   "outputs": [
    {
     "name": "stdout",
     "output_type": "stream",
     "text": [
      "75\n",
      "150\n",
      "145\n"
     ]
    }
   ],
   "source": [
    "numbers = [12, 75, 150, 180, 145, 525, 50]\n",
    "\n",
    "for num in numbers:\n",
    "    if num > 500:\n",
    "        break\n",
    "    elif num > 150:\n",
    "        continue\n",
    "    elif num % 5 == 0:\n",
    "        print(num)\n"
   ]
  },
  {
   "cell_type": "markdown",
   "metadata": {},
   "source": [
    "#### 3.Write a Python program to check the validity of a password (input from users).\n",
    "\n",
    "Validation :\n",
    "\n",
    "At least 1 letter between [a-z] and 1 letter between [A-Z].\n",
    "\n",
    "At least 1 number between [0-9].\n",
    "\n",
    "At least 1 character from [$#@].\n",
    "\n",
    "Minimum length 6 characters.\n",
    "\n",
    "Maximum length 16 characters."
   ]
  },
  {
   "cell_type": "code",
   "execution_count": null,
   "metadata": {},
   "outputs": [],
   "source": [
    "import re\n",
    "\n",
    "password = input(\"Enter a password: \")\n",
    "\n",
    "while True:\n",
    "    if (len(password) < 6 or len(password) > 16):\n",
    "        break\n",
    "    elif not re.search(\"[a-z]\", password):\n",
    "        break\n",
    "    elif not re.search(\"[A-Z]\", password):\n",
    "        break\n",
    "    elif not re.search(\"[0-9]\", password):\n",
    "        break\n",
    "    elif not re.search(\"[$#@]\", password):\n",
    "        break\n",
    "    else:\n",
    "        print(\"Valid Password\")\n",
    "        break\n",
    "\n",
    "if (len(password) < 6 or len(password) > 16):\n",
    "    print(\"Password should be at least 6 characters and at most 16 characters\")\n",
    "if not re.search(\"[a-z]\", password):\n",
    "    print(\"Password should have at least one lowercase letter\")\n",
    "if not re.search(\"[A-Z]\", password):\n",
    "    print(\"Password should have at least one uppercase letter\")\n",
    "if not re.search(\"[0-9]\", password):\n",
    "    print(\"Password should have at least one number\")\n",
    "if not re.search(\"[$#@]\", password):\n",
    "    print(\"Password should have at least one special character ($, #, @)\")\n"
   ]
  },
  {
   "cell_type": "markdown",
   "metadata": {},
   "source": [
    "#### 4. Break the loop when x is 6, and see what happens with the else block"
   ]
  },
  {
   "cell_type": "code",
   "execution_count": 10,
   "metadata": {},
   "outputs": [
    {
     "name": "stdout",
     "output_type": "stream",
     "text": [
      "0\n",
      "1\n",
      "2\n",
      "3\n",
      "4\n",
      "5\n"
     ]
    }
   ],
   "source": [
    "for x in range (0,50):\n",
    "    if x == 6 :\n",
    "        break\n",
    "    else : \n",
    "        print(x)"
   ]
  },
  {
   "cell_type": "markdown",
   "metadata": {},
   "source": [
    "#### 5. Write a Python program to calculate the sum and average of n integer numbers (input from the user). Input 0 to finish.\n"
   ]
  },
  {
   "cell_type": "code",
   "execution_count": 20,
   "metadata": {},
   "outputs": [
    {
     "name": "stdout",
     "output_type": "stream",
     "text": [
      "Enter a integer number and enter finish if you are done : 12\n",
      "Enter a integer number and enter finish if you are done : 34\n",
      "Enter a integer number and enter finish if you are done : 532423\n",
      "Enter a integer number and enter finish if you are done : 23\n",
      "Enter a integer number and enter finish if you are done : 452\n",
      "Enter a integer number and enter finish if you are done : finish\n",
      "Sum:  532944\n",
      "Average:  106588.8\n"
     ]
    }
   ],
   "source": [
    "numbers = []\n",
    "\n",
    "while True : \n",
    "    x = (input('Enter a integer number and enter finish if you are done : '))\n",
    "    if x == 'finish':\n",
    "        break\n",
    "    else :\n",
    "        numbers.append(int(x))\n",
    "\n",
    "sum = 0\n",
    "for i in numbers:\n",
    "    sum += i\n",
    "\n",
    "ave = sum / len(numbers)\n",
    "\n",
    "print(\"Sum: \", sum)\n",
    "print(\"Average: \", ave)\n"
   ]
  }
 ],
 "metadata": {
  "kernelspec": {
   "display_name": "Python 3",
   "language": "python",
   "name": "python3"
  },
  "language_info": {
   "codemirror_mode": {
    "name": "ipython",
    "version": 3
   },
   "file_extension": ".py",
   "mimetype": "text/x-python",
   "name": "python",
   "nbconvert_exporter": "python",
   "pygments_lexer": "ipython3",
   "version": "3.8.3"
  }
 },
 "nbformat": 4,
 "nbformat_minor": 2
}
