{
 "cells": [
  {
   "cell_type": "markdown",
   "metadata": {},
   "source": [
    "Challenge 1: Get a Picture\n",
    "\n",
    "    1 - Go to the link https://xkcd.com\n",
    "    2 - check the headers\n",
    "    3 - check the headers \"Expires\" value\n",
    "    4 - Provide all HTML codes\n",
    "    5 - Choose the random picture from the website\n",
    "    6 - Get it via API\n",
    "    7 - Save it to your computer\n"
   ]
  },
  {
   "cell_type": "code",
   "execution_count": 3,
   "metadata": {},
   "outputs": [
    {
     "name": "stdout",
     "output_type": "stream",
     "text": [
      "{'Connection': 'keep-alive', 'Content-Length': '3039', 'Server': 'nginx', 'Content-Type': 'text/html; charset=UTF-8', 'Last-Modified': 'Tue, 24 Jan 2023 05:08:14 GMT', 'ETag': 'W/\"63cf67be-1e2f\"', 'Expires': 'Wed, 25 Jan 2023 03:56:40 GMT', 'Cache-Control': 'max-age=300', 'Content-Encoding': 'gzip', 'Via': '1.1 varnish, 1.1 varnish', 'Accept-Ranges': 'bytes', 'Date': 'Wed, 25 Jan 2023 12:01:19 GMT', 'Age': '226', 'X-Served-By': 'cache-dfw-kdfw8210070-DFW, cache-cdg20761-CDG', 'X-Cache': 'HIT, HIT', 'X-Cache-Hits': '9, 2', 'X-Timer': 'S1674648080.890943,VS0,VE0', 'Vary': 'Accept-Encoding'}\n"
     ]
    }
   ],
   "source": [
    "import requests\n",
    "\n",
    "# Make a request to the website\n",
    "response = requests.get(\"https://xkcd.com\")\n",
    "\n",
    "# Check the headers\n",
    "headers = response.headers\n",
    "print(headers)"
   ]
  },
  {
   "cell_type": "code",
   "execution_count": 4,
   "metadata": {},
   "outputs": [
    {
     "name": "stdout",
     "output_type": "stream",
     "text": [
      "Wed, 25 Jan 2023 03:56:40 GMT\n"
     ]
    }
   ],
   "source": [
    "# Check the \"Expires\" value in the headers\n",
    "expires_value = headers.get(\"Expires\")\n",
    "print(expires_value)"
   ]
  },
  {
   "cell_type": "code",
   "execution_count": 9,
   "metadata": {},
   "outputs": [
    {
     "data": {
      "text/plain": [
       "'<!DOCTYPE html>\\n<html>\\n<head>\\n<link rel=\"stylesheet\" type=\"text/css\" href=\"/s/7d94e0.css\" title=\"Default\"/>\\n<title>xkcd: Lane Change Highway</title>\\n<meta http-equiv=\"X-UA-Compatible\" content=\"IE=edge\"/>\\n<link rel=\"shortcut icon\" href=\"/s/919f27.ico\" type=\"image/x-icon\"/>\\n<link rel=\"icon\" href=\"/s/919f27.ico\" type=\"image/x-icon\"/>\\n<link rel=\"alternate\" type=\"application/atom+xml\" title=\"Atom 1.0\" href=\"/atom.xml\"/>\\n<link rel=\"alternate\" type=\"application/rss+xml\" title=\"RSS 2.0\" href=\"/rss.xml\"/>\\n<!-- <script type=\"text/javascript\" src=\"/s/b66ed7.js\" async></script>\\n<script type=\"text/javascript\" src=\"/s/1b9456.js\" async></script> -->\\n\\n<meta property=\"og:site_name\" content=\"xkcd\">\\n\\n<meta property=\"og:title\" content=\"Lane Change Highway\">\\n<meta property=\"og:url\" content=\"https://xkcd.com/2728/\">\\n<meta property=\"og:image\" content=\"https://imgs.xkcd.com/comics/lane_change_highway_2x.png\">\\n<meta name=\"twitter:card\" content=\"summary_large_image\">\\n\\n</head>\\n<body>\\n<div id=\"topContainer\">\\n<div id=\"topLeft\">\\n<ul>\\n<li><a href=\"/archive\">Archive</a></li>\\n<li><a href=\"https://what-if.xkcd.com\">What If?</a></li>\\n<li><a rel=\"author\" href=\"/about\">About</a></li>\\n<li><a href=\"/atom.xml\">Feed</a>&bull;<a href=\"/newsletter/\">Email</a></li>\\n<li><a href=\"https://twitter.com/xkcd/\">TW</a>&bull;<a href=\"https://www.facebook.com/TheXKCD/\">FB</a>&bull;<a href=\"https://www.instagram.com/xkcd/\">IG</a></li>\\n<li><a href=\"/books/\">-Books-</a></li>\\n<li><a href=\"/what-if-2/\">What If? 2</a></li>\\n<li><a href=\"/what-if/\">WI?</a>&bull;<a href=\"/thing-explainer/\">TE</a>&bull;<a href=\"/how-to/\">HT</a></li>\\n</ul>\\n</div>\\n<div id=\"topRight\">\\n<div id=\"masthead\">\\n<span><a href=\"/\"><img src=\"/s/0b7742.png\" alt=\"xkcd.com logo\" height=\"83\" width=\"185\"/></a></span>\\n<span id=\"slogan\">A webcomic of romance,<br/> sarcasm, math, and language.</span>\\n</div>\\n<div id=\"news\">\\n<div id=\"xkcdNews\">\\n<div id=\"countdown\" style=\"float: right; margin-right: 25px; width: 160px; height: 100px; position: relative;\"><a style=\"display: flex;\" href=\"https://xkcd.com/what-if-2/\"><img alt=\"\" style=\"width: 160px; height: 100px;\" src=\"https://xkcd.com/s/5bef6b.png\"><span style=\"position: absolute; left: 50%; top: 50%; transform: translate(-50%, -50%); padding: 0px 8px; color: black; font-family: xkcd-Regular-v3; font-size: 20px; font-variant: small-caps; letter-spacing: 1px; white-space: nowrap; background: white none repeat scroll 0% 0%; border-radius: 99px; display: none;\"></span></a></div>\\n</div>\\n<script>\\nvar client = new XMLHttpRequest();\\nclient.open(\"GET\", \"//c.xkcd.com/xkcd/news\", true);\\nclient.send();\\nclient.onreadystatechange = function() {\\n  if(client.readyState == 4 && client.status == 200) {\\n    document.getElementById(\"xkcdNews\").innerHTML = client.responseText;\\n  }\\n}\\n</script>\\n\\n</div>\\n</div>\\n<div id=\"bgLeft\" class=\"bg box\"></div>\\n<div id=\"bgRight\" class=\"bg box\"></div>\\n</div>\\n<div id=\"middleContainer\" class=\"box\">\\n\\n<div id=\"ctitle\">Lane Change Highway</div>\\n<ul class=\"comicNav\">\\n<li><a href=\"/1/\">|&lt;</a></li>\\n<li><a rel=\"prev\" href=\"/2727/\" accesskey=\"p\">&lt; Prev</a></li>\\n<li><a href=\"//c.xkcd.com/random/comic/\">Random</a></li>\\n<li><a rel=\"next\" href=\"#\" accesskey=\"n\">Next &gt;</a></li>\\n<li><a href=\"/\">&gt;|</a></li>\\n</ul>\\n<div id=\"comic\">\\n<img src=\"//imgs.xkcd.com/comics/lane_change_highway.png\" title=\"I just think lane markers should follow the local magnetic declination.\" alt=\"Lane Change Highway\" srcset=\"//imgs.xkcd.com/comics/lane_change_highway_2x.png 2x\" style=\"image-orientation:none\" />\\n</div>\\n<ul class=\"comicNav\">\\n<li><a href=\"/1/\">|&lt;</a></li>\\n<li><a rel=\"prev\" href=\"/2727/\" accesskey=\"p\">&lt; Prev</a></li>\\n<li><a href=\"//c.xkcd.com/random/comic/\">Random</a></li>\\n<li><a rel=\"next\" href=\"#\" accesskey=\"n\">Next &gt;</a></li>\\n<li><a href=\"/\">&gt;|</a></li>\\n</ul>\\n<br />\\nPermanent link to this comic: <a href=\"https://xkcd.com/2728\">https://xkcd.com/2728/</a><br />\\nImage URL (for hotlinking/embedding): <a href= \"https://imgs.xkcd.com/comics/lane_change_highway.png\">https://imgs.xkcd.com/comics/lane_change_highway.png</a>\\n\\n<div id=\"transcript\" style=\"display: none\"></div>\\n</div>\\n<div id=\"bottom\" class=\"box\">\\n<img src=\"//imgs.xkcd.com/s/a899e84.jpg\" width=\"520\" height=\"100\" alt=\"Selected Comics\" usemap=\"#comicmap\"/>\\n<map id=\"comicmap\" name=\"comicmap\">\\n<area shape=\"rect\" coords=\"0,0,100,100\" href=\"/150/\" alt=\"Grownups\"/>\\n<area shape=\"rect\" coords=\"104,0,204,100\" href=\"/730/\" alt=\"Circuit Diagram\"/>\\n<area shape=\"rect\" coords=\"208,0,308,100\" href=\"/162/\" alt=\"Angular Momentum\"/>\\n<area shape=\"rect\" coords=\"312,0,412,100\" href=\"/688/\" alt=\"Self-Description\"/>\\n<area shape=\"rect\" coords=\"416,0,520,100\" href=\"/556/\" alt=\"Alternative Energy Revolution\"/>\\n</map>\\n<br />\\n<a href=\"//xkcd.com/1732/\"><img border=0 src=\"//imgs.xkcd.com/s/temperature.png\" width=\"520\" height=\"100\" alt=\"Earth temperature timeline\"></a>\\n<br />\\n<div>\\n<!--\\nSearch comic titles and transcripts:\\n<script type=\"text/javascript\" src=\"//www.google.com/jsapi\"></script>\\n<script type=\"text/javascript\">google.load(\\'search\\', \\'1\\');google.setOnLoadCallback(function() {google.search.CustomSearchControl.attachAutoCompletion(\\'012652707207066138651:zudjtuwe28q\\',document.getElementById(\\'q\\'),\\'cse-search-box\\');});</script>\\n<form action=\"//www.google.com/cse\" id=\"cse-search-box\">\\n<div>\\n<input type=\"hidden\" name=\"cx\" value=\"012652707207066138651:zudjtuwe28q\"/>\\n<input type=\"hidden\" name=\"ie\" value=\"UTF-8\"/>\\n<input type=\"text\" name=\"q\" id=\"q\" size=\"31\"/>\\n<input type=\"submit\" name=\"sa\" value=\"Search\"/>\\n</div>\\n</form>\\n<script type=\"text/javascript\" src=\"//www.google.com/cse/brand?form=cse-search-box&amp;lang=en\"></script>\\n-->\\n<a href=\"/rss.xml\">RSS Feed</a> - <a href=\"/atom.xml\">Atom Feed</a> - <a href=\"/newsletter/\">Email</a>\\n</div>\\n<br />\\n<div id=\"comicLinks\">\\nComics I enjoy:<br/>\\n        <a href=\"http://threewordphrase.com/\">Three Word Phrase</a>,\\n        <a href=\"https://www.smbc-comics.com/\">SMBC</a>,\\n        <a href=\"https://www.qwantz.com\">Dinosaur Comics</a>,\\n        <a href=\"https://oglaf.com/\">Oglaf</a> (nsfw),\\n        <a href=\"https://www.asofterworld.com\">A Softer World</a>,\\n        <a href=\"https://buttersafe.com/\">Buttersafe</a>,\\n        <a href=\"https://pbfcomics.com/\">Perry Bible Fellowship</a>,\\n        <a href=\"https://questionablecontent.net/\">Questionable Content</a>,\\n        <a href=\"http://www.buttercupfestival.com/\">Buttercup Festival</a>,\\n        <a href=\"https://www.homestuck.com/\">Homestuck</a>,\\n\\t<a href=\"https://www.jspowerhour.com/\">Junior Scientist Power Hour</a>\\n</div>\\n<br />\\n<div id=\"comicLinks\">\\nOther things:<br/>\\n        <a href=\"https://medium.com/civic-tech-thoughts-from-joshdata/so-you-want-to-reform-democracy-7f3b1ef10597\">Tips on technology and government</a>,<br /> \\n        <a href=\"https://www.nytimes.com/interactive/2017/climate/what-is-climate-change.html\">Climate FAQ</a>,\\n\\t<a href=\"https://twitter.com/KHayhoe\">Katharine Hayhoe</a>\\n</div>\\n<br />\\n<center>\\n<div id=\"footnote\" style=\"width:70%\">xkcd.com is best viewed with Netscape Navigator 4.0 or below on a Pentium 3&plusmn;1 emulated in Javascript on an Apple IIGS<br />at a screen resolution of 1024x1. Please enable your ad blockers, disable high-heat drying, and remove your device<br />from Airplane Mode and set it to Boat Mode. For security reasons, please leave caps lock on while browsing.</div>\\n</center>\\n<div id=\"licenseText\">\\n<p>\\nThis work is licensed under a\\n<a href=\"https://creativecommons.org/licenses/by-nc/2.5/\">Creative Commons Attribution-NonCommercial 2.5 License</a>.\\n</p><p>\\nThis means you\\'re free to copy and share these comics (but not to sell them). <a rel=\"license\" href=\"/license.html\">More details</a>.</p>\\n</div>\\n</div>\\n</body>\\n<!-- Layout by Ian Clasbey, davean, and chromakode -->\\n</html>\\n\\n'"
      ]
     },
     "execution_count": 9,
     "metadata": {},
     "output_type": "execute_result"
    }
   ],
   "source": [
    "#Provide all HTML codes\n",
    "\n",
    "html_content = response.text\n",
    "\n",
    "html_content"
   ]
  },
  {
   "cell_type": "code",
   "execution_count": 11,
   "metadata": {},
   "outputs": [
    {
     "data": {
      "text/plain": [
       "<Response [200]>"
      ]
     },
     "execution_count": 11,
     "metadata": {},
     "output_type": "execute_result"
    }
   ],
   "source": [
    "# Choose the random picture from the website\n",
    "\n",
    "# Get it via API\n",
    "\n",
    "image_url = 'https://imgs.xkcd.com/comics/lane_change_highway_2x.png'\n",
    "image = requests.get(image_url)\n",
    "image"
   ]
  },
  {
   "cell_type": "code",
   "execution_count": 15,
   "metadata": {},
   "outputs": [],
   "source": [
    "# Get the image via API\n",
    "img_url = \"https://imgs.xkcd.com/comics/lane_change_highway_2x.png\"\n",
    "img_data = requests.get(img_url).content"
   ]
  },
  {
   "cell_type": "code",
   "execution_count": 13,
   "metadata": {},
   "outputs": [],
   "source": [
    "# Save the image to your computer\n",
    "with open(\"xkcd_image.png\", \"wb\") as f:\n",
    "    f.write(img_data)"
   ]
  },
  {
   "cell_type": "markdown",
   "metadata": {},
   "source": [
    "Challenge 3: Hidden Cold Joke"
   ]
  },
  {
   "cell_type": "markdown",
   "metadata": {},
   "source": [
    "\n",
    "Using Python, call Github API to find out the cold joke contained in the 24 secret files in the following repo:\n",
    "\n",
    "https://github.com/ironhack-datalabs/scavenger"
   ]
  },
  {
   "cell_type": "code",
   "execution_count": null,
   "metadata": {},
   "outputs": [],
   "source": []
  }
 ],
 "metadata": {
  "kernelspec": {
   "display_name": "Python 3",
   "language": "python",
   "name": "python3"
  },
  "language_info": {
   "codemirror_mode": {
    "name": "ipython",
    "version": 3
   },
   "file_extension": ".py",
   "mimetype": "text/x-python",
   "name": "python",
   "nbconvert_exporter": "python",
   "pygments_lexer": "ipython3",
   "version": "3.8.3"
  }
 },
 "nbformat": 4,
 "nbformat_minor": 4
}
