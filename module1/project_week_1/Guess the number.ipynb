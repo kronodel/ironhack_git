{
 "cells": [
  {
   "cell_type": "code",
   "execution_count": 4,
   "metadata": {},
   "outputs": [
    {
     "name": "stdout",
     "output_type": "stream",
     "text": [
      "Choose a number between 0 and 9 : 9\n",
      "Nope\n",
      "Choose a number between 0 and 9 : 1\n",
      "Nope\n",
      "Choose a number between 0 and 9 : 2\n",
      "Nope\n",
      "Choose a number between 0 and 9 : 34\n",
      "Nope\n",
      "Choose a number between 0 and 9 : 556\n",
      "Nope\n"
     ]
    },
    {
     "ename": "KeyboardInterrupt",
     "evalue": "Interrupted by user",
     "output_type": "error",
     "traceback": [
      "\u001b[0;31m---------------------------------------------------------------------------\u001b[0m",
      "\u001b[0;31mKeyboardInterrupt\u001b[0m                         Traceback (most recent call last)",
      "\u001b[0;32m<ipython-input-4-7c815e23f33b>\u001b[0m in \u001b[0;36m<module>\u001b[0;34m\u001b[0m\n\u001b[1;32m      8\u001b[0m \u001b[0;34m\u001b[0m\u001b[0m\n\u001b[1;32m      9\u001b[0m \u001b[0;32mwhile\u001b[0m \u001b[0mchoice\u001b[0m \u001b[0;34m!=\u001b[0m \u001b[0mnum\u001b[0m \u001b[0;34m:\u001b[0m\u001b[0;34m\u001b[0m\u001b[0;34m\u001b[0m\u001b[0m\n\u001b[0;32m---> 10\u001b[0;31m     \u001b[0mchoice\u001b[0m \u001b[0;34m=\u001b[0m \u001b[0minput\u001b[0m\u001b[0;34m(\u001b[0m\u001b[0;34m'Choose a number between 0 and 9 : '\u001b[0m \u001b[0;34m)\u001b[0m\u001b[0;34m\u001b[0m\u001b[0;34m\u001b[0m\u001b[0m\n\u001b[0m\u001b[1;32m     11\u001b[0m \u001b[0;34m\u001b[0m\u001b[0m\n\u001b[1;32m     12\u001b[0m     \u001b[0;32mif\u001b[0m \u001b[0mchoice\u001b[0m \u001b[0;34m==\u001b[0m \u001b[0mnum\u001b[0m \u001b[0;34m:\u001b[0m\u001b[0;34m\u001b[0m\u001b[0;34m\u001b[0m\u001b[0m\n",
      "\u001b[0;32m/opt/anaconda3/lib/python3.8/site-packages/ipykernel/kernelbase.py\u001b[0m in \u001b[0;36mraw_input\u001b[0;34m(self, prompt)\u001b[0m\n\u001b[1;32m    858\u001b[0m                 \u001b[0;34m\"raw_input was called, but this frontend does not support input requests.\"\u001b[0m\u001b[0;34m\u001b[0m\u001b[0;34m\u001b[0m\u001b[0m\n\u001b[1;32m    859\u001b[0m             )\n\u001b[0;32m--> 860\u001b[0;31m         return self._input_request(str(prompt),\n\u001b[0m\u001b[1;32m    861\u001b[0m             \u001b[0mself\u001b[0m\u001b[0;34m.\u001b[0m\u001b[0m_parent_ident\u001b[0m\u001b[0;34m,\u001b[0m\u001b[0;34m\u001b[0m\u001b[0;34m\u001b[0m\u001b[0m\n\u001b[1;32m    862\u001b[0m             \u001b[0mself\u001b[0m\u001b[0;34m.\u001b[0m\u001b[0m_parent_header\u001b[0m\u001b[0;34m,\u001b[0m\u001b[0;34m\u001b[0m\u001b[0;34m\u001b[0m\u001b[0m\n",
      "\u001b[0;32m/opt/anaconda3/lib/python3.8/site-packages/ipykernel/kernelbase.py\u001b[0m in \u001b[0;36m_input_request\u001b[0;34m(self, prompt, ident, parent, password)\u001b[0m\n\u001b[1;32m    902\u001b[0m             \u001b[0;32mexcept\u001b[0m \u001b[0mKeyboardInterrupt\u001b[0m\u001b[0;34m:\u001b[0m\u001b[0;34m\u001b[0m\u001b[0;34m\u001b[0m\u001b[0m\n\u001b[1;32m    903\u001b[0m                 \u001b[0;31m# re-raise KeyboardInterrupt, to truncate traceback\u001b[0m\u001b[0;34m\u001b[0m\u001b[0;34m\u001b[0m\u001b[0;34m\u001b[0m\u001b[0m\n\u001b[0;32m--> 904\u001b[0;31m                 \u001b[0;32mraise\u001b[0m \u001b[0mKeyboardInterrupt\u001b[0m\u001b[0;34m(\u001b[0m\u001b[0;34m\"Interrupted by user\"\u001b[0m\u001b[0;34m)\u001b[0m \u001b[0;32mfrom\u001b[0m \u001b[0;32mNone\u001b[0m\u001b[0;34m\u001b[0m\u001b[0;34m\u001b[0m\u001b[0m\n\u001b[0m\u001b[1;32m    905\u001b[0m             \u001b[0;32mexcept\u001b[0m \u001b[0mException\u001b[0m \u001b[0;32mas\u001b[0m \u001b[0me\u001b[0m\u001b[0;34m:\u001b[0m\u001b[0;34m\u001b[0m\u001b[0;34m\u001b[0m\u001b[0m\n\u001b[1;32m    906\u001b[0m                 \u001b[0mself\u001b[0m\u001b[0;34m.\u001b[0m\u001b[0mlog\u001b[0m\u001b[0;34m.\u001b[0m\u001b[0mwarning\u001b[0m\u001b[0;34m(\u001b[0m\u001b[0;34m\"Invalid Message:\"\u001b[0m\u001b[0;34m,\u001b[0m \u001b[0mexc_info\u001b[0m\u001b[0;34m=\u001b[0m\u001b[0;32mTrue\u001b[0m\u001b[0;34m)\u001b[0m\u001b[0;34m\u001b[0m\u001b[0;34m\u001b[0m\u001b[0m\n",
      "\u001b[0;31mKeyboardInterrupt\u001b[0m: Interrupted by user"
     ]
    }
   ],
   "source": [
    "#Guess The Number\n",
    "\n",
    "import random\n",
    "\n",
    "num = random.randint(-1,9)\n",
    "num = str(num)\n",
    "choice = -1\n",
    "\n",
    "while choice != num :\n",
    "    choice = input('Choose a number between 0 and 9 : ' )\n",
    "\n",
    "    if choice == num :\n",
    "        print('You won !')\n",
    "    else :\n",
    "        print('Nope')"
   ]
  },
  {
   "cell_type": "code",
   "execution_count": 6,
   "metadata": {},
   "outputs": [
    {
     "name": "stdout",
     "output_type": "stream",
     "text": [
      "Guess a number between 1 and 100: 50\n",
      "Too high, try again.\n",
      "Guess a number between 1 and 100: 25\n",
      "Too low, try again.\n",
      "Guess a number between 1 and 100: 35\n",
      "Congratulations! You guessed the number in 3 guesses!\n"
     ]
    }
   ],
   "source": [
    "import random\n",
    "\n",
    "def guess_number():\n",
    "    # Generate a random number between 1 and 100\n",
    "    number = random.randint(1, 100)\n",
    "    \n",
    "    # Get the player's guess\n",
    "    guess = int(input(\"Guess a number between 1 and 100: \"))\n",
    "    \n",
    "    # Keep track of the number of guesses\n",
    "    guesses = 1\n",
    "    \n",
    "    # Loop until the player guesses the number\n",
    "    while guess != number:\n",
    "        if guess < number:\n",
    "            print(\"Too low, try again.\")\n",
    "        else:\n",
    "            print(\"Too high, try again.\")\n",
    "        \n",
    "        # Get the player's next guess\n",
    "        guess = int(input(\"Guess a number between 1 and 100: \"))\n",
    "        \n",
    "        # Increment the number of guesses\n",
    "        guesses += 1\n",
    "    \n",
    "    # Print a message to let the player know they won\n",
    "    print(\"Congratulations! You guessed the number in {} guesses!\".format(guesses))\n",
    "\n",
    "# Start the game\n",
    "guess_number()\n"
   ]
  },
  {
   "cell_type": "code",
   "execution_count": null,
   "metadata": {},
   "outputs": [],
   "source": [
    "def guess_number():\n",
    "    while True:\n",
    "        try:\n",
    "            # Get the number to guess from the player\n",
    "            number = int(input(\"Choisir un nombre entre 1 et 100 pour que le programme devine: \"))\n",
    "            break\n",
    "        except ValueError:\n",
    "            print(\"Entrée non valide. Veuillez entrer un nombre entier.\")\n",
    "\n",
    "    # Initialize the lower and upper bounds of the range\n",
    "    lower = 1\n",
    "    upper = 100\n",
    "\n",
    "    # Keep track of the number of guesses\n",
    "    guesses = 1\n",
    "\n",
    "    # Loop until the program guesses the number\n",
    "    while True:\n",
    "        guess = (lower + upper) // 2\n",
    "\n",
    "        if guess == number:\n",
    "            break\n",
    "        elif guess < number:\n",
    "            lower = guess + 1\n",
    "        else:\n",
    "            upper = guess - 1\n",
    "        guesses += 1\n",
    "\n",
    "    # Print a message to let the player know the program guessed the number\n",
    "    print(\"The program guessed the number in\", guesses, \"guesses!\")\n",
    "\n",
    "# Start the game\n",
    "guess_number()\n"
   ]
  },
  {
   "cell_type": "code",
   "execution_count": null,
   "metadata": {},
   "outputs": [],
   "source": []
  }
 ],
 "metadata": {
  "kernelspec": {
   "display_name": "Python 3",
   "language": "python",
   "name": "python3"
  },
  "language_info": {
   "codemirror_mode": {
    "name": "ipython",
    "version": 3
   },
   "file_extension": ".py",
   "mimetype": "text/x-python",
   "name": "python",
   "nbconvert_exporter": "python",
   "pygments_lexer": "ipython3",
   "version": "3.8.3"
  }
 },
 "nbformat": 4,
 "nbformat_minor": 4
}
