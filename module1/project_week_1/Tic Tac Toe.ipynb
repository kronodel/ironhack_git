{
 "cells": [
  {
   "cell_type": "markdown",
   "metadata": {},
   "source": [
    "# Tic Tac Toe"
   ]
  },
  {
   "cell_type": "code",
   "execution_count": 18,
   "metadata": {},
   "outputs": [
    {
     "name": "stdout",
     "output_type": "stream",
     "text": [
      "['a1', 'a2', 'a3']\n",
      "['b1', 'b2', 'b3']\n",
      "['c1', 'c2', 'c3']\n"
     ]
    }
   ],
   "source": [
    "l= [['a1','a2','a3'],['b1','b2','b3'],['c1','c2','c3']]\n",
    "\n",
    "l1=l[0]\n",
    "l2 = l[1]\n",
    "l3 = l[2]\n",
    "\n",
    "C1 = [l[0][0],l[1][0],l[2][0]]\n",
    "C2 = [l[0][1],l[1][1],l[2][1]]\n",
    "C3 = [l[0][2],l[1][2],l[2][2]]\n",
    "\n",
    "D1 = [l[0][0],l[1][1],l[2][2]]\n",
    "D2 = [l[0][2],l[1][1],l[2][0]]\n",
    "\n",
    "player1 = True \n",
    "for i in l :\n",
    "    print(i)"
   ]
  },
  {
   "cell_type": "code",
   "execution_count": 24,
   "metadata": {},
   "outputs": [
    {
     "name": "stdout",
     "output_type": "stream",
     "text": [
      "[' ', ' ', ' ']\n",
      "[' ', ' ', ' ']\n",
      "[' ', ' ', ' ']\n"
     ]
    },
    {
     "ename": "KeyboardInterrupt",
     "evalue": "Interrupted by user",
     "output_type": "error",
     "traceback": [
      "\u001b[0;31m---------------------------------------------------------------------------\u001b[0m",
      "\u001b[0;31mKeyboardInterrupt\u001b[0m                         Traceback (most recent call last)",
      "\u001b[0;32m<ipython-input-24-9c7301428488>\u001b[0m in \u001b[0;36m<module>\u001b[0;34m\u001b[0m\n\u001b[1;32m     29\u001b[0m     \u001b[0mafficher_grille\u001b[0m\u001b[0;34m(\u001b[0m\u001b[0ml\u001b[0m\u001b[0;34m)\u001b[0m\u001b[0;34m\u001b[0m\u001b[0;34m\u001b[0m\u001b[0m\n\u001b[1;32m     30\u001b[0m     \u001b[0;31m# Demande à l'utilisateur de saisir un emplacement\u001b[0m\u001b[0;34m\u001b[0m\u001b[0;34m\u001b[0m\u001b[0;34m\u001b[0m\u001b[0m\n\u001b[0;32m---> 31\u001b[0;31m     \u001b[0memplacement\u001b[0m \u001b[0;34m=\u001b[0m \u001b[0minput\u001b[0m\u001b[0;34m(\u001b[0m\u001b[0;34m\"Joueur \"\u001b[0m \u001b[0;34m+\u001b[0m \u001b[0mjoueur\u001b[0m \u001b[0;34m+\u001b[0m \u001b[0;34m\", saisissez l'emplacement (ex: a1): \"\u001b[0m\u001b[0;34m)\u001b[0m\u001b[0;34m\u001b[0m\u001b[0;34m\u001b[0m\u001b[0m\n\u001b[0m\u001b[1;32m     32\u001b[0m     \u001b[0;31m# Convertit l'emplacement en coordonnées (ligne, colonne)\u001b[0m\u001b[0;34m\u001b[0m\u001b[0;34m\u001b[0m\u001b[0;34m\u001b[0m\u001b[0m\n\u001b[1;32m     33\u001b[0m     \u001b[0mligne\u001b[0m \u001b[0;34m=\u001b[0m \u001b[0mord\u001b[0m\u001b[0;34m(\u001b[0m\u001b[0memplacement\u001b[0m\u001b[0;34m[\u001b[0m\u001b[0;36m0\u001b[0m\u001b[0;34m]\u001b[0m\u001b[0;34m)\u001b[0m \u001b[0;34m-\u001b[0m \u001b[0mord\u001b[0m\u001b[0;34m(\u001b[0m\u001b[0;34m'a'\u001b[0m\u001b[0;34m)\u001b[0m\u001b[0;34m\u001b[0m\u001b[0;34m\u001b[0m\u001b[0m\n",
      "\u001b[0;32m/opt/anaconda3/lib/python3.8/site-packages/ipykernel/kernelbase.py\u001b[0m in \u001b[0;36mraw_input\u001b[0;34m(self, prompt)\u001b[0m\n\u001b[1;32m    858\u001b[0m                 \u001b[0;34m\"raw_input was called, but this frontend does not support input requests.\"\u001b[0m\u001b[0;34m\u001b[0m\u001b[0;34m\u001b[0m\u001b[0m\n\u001b[1;32m    859\u001b[0m             )\n\u001b[0;32m--> 860\u001b[0;31m         return self._input_request(str(prompt),\n\u001b[0m\u001b[1;32m    861\u001b[0m             \u001b[0mself\u001b[0m\u001b[0;34m.\u001b[0m\u001b[0m_parent_ident\u001b[0m\u001b[0;34m,\u001b[0m\u001b[0;34m\u001b[0m\u001b[0;34m\u001b[0m\u001b[0m\n\u001b[1;32m    862\u001b[0m             \u001b[0mself\u001b[0m\u001b[0;34m.\u001b[0m\u001b[0m_parent_header\u001b[0m\u001b[0;34m,\u001b[0m\u001b[0;34m\u001b[0m\u001b[0;34m\u001b[0m\u001b[0m\n",
      "\u001b[0;32m/opt/anaconda3/lib/python3.8/site-packages/ipykernel/kernelbase.py\u001b[0m in \u001b[0;36m_input_request\u001b[0;34m(self, prompt, ident, parent, password)\u001b[0m\n\u001b[1;32m    902\u001b[0m             \u001b[0;32mexcept\u001b[0m \u001b[0mKeyboardInterrupt\u001b[0m\u001b[0;34m:\u001b[0m\u001b[0;34m\u001b[0m\u001b[0;34m\u001b[0m\u001b[0m\n\u001b[1;32m    903\u001b[0m                 \u001b[0;31m# re-raise KeyboardInterrupt, to truncate traceback\u001b[0m\u001b[0;34m\u001b[0m\u001b[0;34m\u001b[0m\u001b[0;34m\u001b[0m\u001b[0m\n\u001b[0;32m--> 904\u001b[0;31m                 \u001b[0;32mraise\u001b[0m \u001b[0mKeyboardInterrupt\u001b[0m\u001b[0;34m(\u001b[0m\u001b[0;34m\"Interrupted by user\"\u001b[0m\u001b[0;34m)\u001b[0m \u001b[0;32mfrom\u001b[0m \u001b[0;32mNone\u001b[0m\u001b[0;34m\u001b[0m\u001b[0;34m\u001b[0m\u001b[0m\n\u001b[0m\u001b[1;32m    905\u001b[0m             \u001b[0;32mexcept\u001b[0m \u001b[0mException\u001b[0m \u001b[0;32mas\u001b[0m \u001b[0me\u001b[0m\u001b[0;34m:\u001b[0m\u001b[0;34m\u001b[0m\u001b[0;34m\u001b[0m\u001b[0m\n\u001b[1;32m    906\u001b[0m                 \u001b[0mself\u001b[0m\u001b[0;34m.\u001b[0m\u001b[0mlog\u001b[0m\u001b[0;34m.\u001b[0m\u001b[0mwarning\u001b[0m\u001b[0;34m(\u001b[0m\u001b[0;34m\"Invalid Message:\"\u001b[0m\u001b[0;34m,\u001b[0m \u001b[0mexc_info\u001b[0m\u001b[0;34m=\u001b[0m\u001b[0;32mTrue\u001b[0m\u001b[0;34m)\u001b[0m\u001b[0;34m\u001b[0m\u001b[0;34m\u001b[0m\u001b[0m\n",
      "\u001b[0;31mKeyboardInterrupt\u001b[0m: Interrupted by user"
     ]
    }
   ],
   "source": [
    "# Initialisation de la grille\n",
    "l = [[' ',' ',' '],[' ',' ',' '],[' ',' ',' ']]\n",
    "\n",
    "# Fonction pour afficher la grille\n",
    "def afficher_grille(l):\n",
    "    for i in range(3):\n",
    "        print(l[i])\n",
    "\n",
    "# Fonction pour vérifier si un joueur a gagné\n",
    "def verifier_gagnant(l):\n",
    "    # Vérifie les lignes\n",
    "    for i in range(3):\n",
    "        if l[i][0] == l[i][1] == l[i][2] and l[i][0] != ' ':\n",
    "            return l[i][0]\n",
    "    # Vérifie les colonnes\n",
    "    for i in range(3):\n",
    "        if l[0][i] == l[1][i] == l[2][i] and l[0][i] != ' ':\n",
    "            return l[0][i]\n",
    "    # Vérifie les diagonales\n",
    "    if l[0][0] == l[1][1] == l[2][2] and l[0][0] != ' ':\n",
    "        return l[0][0]\n",
    "    if l[0][2] == l[1][1] == l[2][0] and l[0][2] != ' ':\n",
    "        return l[0][2]\n",
    "    return None\n",
    "\n",
    "# Boucle principale de jeu\n",
    "joueur = 'X'\n",
    "while True:\n",
    "    afficher_grille(l)\n",
    "    # Demande à l'utilisateur de saisir un emplacement\n",
    "    emplacement = input(\"Joueur \" + joueur + \", saisissez l'emplacement (ex: a1): \")\n",
    "    # Convertit l'emplacement en coordonnées (ligne, colonne)\n",
    "    ligne = ord(emplacement[0]) - ord('a')\n",
    "    colonne = int(emplacement[1]) - 1\n",
    "    # Vérifie que l'emplacement est valide\n",
    "    if ligne < 0 or ligne > 2 or colonne < 0 or colonne > 2:\n",
    "        print(\"Emplacement non valide!\")\n",
    "        continue\n",
    "    if l[ligne][colonne] != ' ':\n",
    "        print(\"Emplacement déjà utilisé!\")\n",
    "        continue\n",
    "    # Met à jour la grille\n",
    "    l[ligne][colonne] = joueur\n",
    "    # Vérifie si un joueur a gagné\n",
    "    gagnant = verifier_gagnant(l)\n",
    "    if gagnant:\n",
    "        afficher_grille(l)\n",
    "        print(\"Joueur \" + gagnant + \" a gagné!\")\n",
    "        break\n",
    "    # Change de joueur\n",
    "    if joueur == 'X':\n",
    "        joueur = 'O'\n",
    "    else:\n",
    "        joueur = 'X'\n"
   ]
  },
  {
   "cell_type": "code",
   "execution_count": 62,
   "metadata": {},
   "outputs": [
    {
     "name": "stdout",
     "output_type": "stream",
     "text": [
      "Choose a number between 0 and 9 : 0\n",
      "Nope\n",
      "Choose a number between 0 and 9 : 9\n",
      "Nope\n",
      "Choose a number between 0 and 9 : 2\n",
      "Nope\n",
      "Choose a number between 0 and 9 : 1\n",
      "Nope\n",
      "Choose a number between 0 and 9 : 23\n",
      "Nope\n",
      "Choose a number between 0 and 9 : 45\n",
      "Nope\n",
      "Choose a number between 0 and 9 : 666\n",
      "Nope\n",
      "Choose a number between 0 and 9 : 1\n",
      "Nope\n",
      "Choose a number between 0 and 9 : 2\n",
      "Nope\n",
      "Choose a number between 0 and 9 : 3\n",
      "Nope\n",
      "Choose a number between 0 and 9 : 4\n",
      "Nope\n",
      "Choose a number between 0 and 9 : 45\n",
      "Nope\n",
      "Choose a number between 0 and 9 : 5\n",
      "Nope\n",
      "Choose a number between 0 and 9 : 6\n",
      "Nope\n",
      "Choose a number between 0 and 9 : 7\n",
      "Nope\n",
      "Choose a number between 0 and 9 : 8\n",
      "You won !\n"
     ]
    }
   ],
   "source": [
    "#Guess The Number\n",
    "\n",
    "import random\n",
    "\n",
    "num = random.randint(-1,9)\n",
    "num = str(num)\n",
    "choice = -1\n",
    "\n",
    "while choice != num :\n",
    "    choice = input('Choose a number between 0 and 9 : ' )\n",
    "\n",
    "    if choice == num :\n",
    "        print('You won !')\n",
    "    else :\n",
    "        print('Nope')"
   ]
  },
  {
   "cell_type": "code",
   "execution_count": 65,
   "metadata": {},
   "outputs": [
    {
     "name": "stdout",
     "output_type": "stream",
     "text": [
      "is this your number ? : 8 \n",
      " Say \"no\" if it is not your number\n",
      "no\n",
      "is this your number ? : 2 \n",
      " Say \"no\" if it is not your number\n",
      "no\n",
      "is this your number ? : 9 \n",
      " Say \"no\" if it is not your number\n",
      "no\n",
      "is this your number ? : 7 \n",
      " Say \"no\" if it is not your number\n",
      "no\n",
      "is this your number ? : 9 \n",
      " Say \"no\" if it is not your number\n",
      "no\n",
      "is this your number ? : 5 \n",
      " Say \"no\" if it is not your number\n",
      "no\n",
      "is this your number ? : 6 \n",
      " Say \"no\" if it is not your number\n",
      "no\n",
      "is this your number ? : 1 \n",
      " Say \"no\" if it is not your number\n",
      "yes\n",
      "I won\n"
     ]
    }
   ],
   "source": [
    "###### Guess The Number\n",
    "\n",
    "rep = 'no'\n",
    "while rep == 'no' :\n",
    "    choice = random.randint(1,9)\n",
    "    print(\"is this your number ? :\", choice,\"\\n Say \\\"no\\\" if it is not your number\")\n",
    "    rep=input('')\n",
    "    if rep != 'no':\n",
    "        print('I won')"
   ]
  },
  {
   "cell_type": "code",
   "execution_count": 81,
   "metadata": {},
   "outputs": [
    {
     "name": "stdout",
     "output_type": "stream",
     "text": [
      "Guess a number between 1 and 100: 50\n",
      "Too low, try again.\n",
      "Guess a number between 1 and 100: 75\n",
      "Too high, try again.\n",
      "Guess a number between 1 and 100: 62\n",
      "Too low, try again.\n",
      "Guess a number between 1 and 100: 66\n",
      "Too high, try again.\n",
      "Guess a number between 1 and 100: 63\n",
      "Congratulations! You guessed the number in 5 guesses!\n"
     ]
    }
   ],
   "source": [
    "import random\n",
    "\n",
    "def guess_number():\n",
    "    # Generate a random number between 1 and 100\n",
    "    number = random.randint(1, 100)\n",
    "    \n",
    "    # Get the player's guess\n",
    "    guess = int(input(\"Guess a number between 1 and 100: \"))\n",
    "    \n",
    "    # Keep track of the number of guesses\n",
    "    guesses = 1\n",
    "    \n",
    "    # Loop until the player guesses the number\n",
    "    while guess != number:\n",
    "        if guess < number:\n",
    "            print(\"Too low, try again.\")\n",
    "        else:\n",
    "            print(\"Too high, try again.\")\n",
    "        \n",
    "        # Get the player's next guess\n",
    "        guess = int(input(\"Guess a number between 1 and 100: \"))\n",
    "        \n",
    "        # Increment the number of guesses\n",
    "        guesses += 1\n",
    "    \n",
    "    # Print a message to let the player know they won\n",
    "    print(\"Congratulations! You guessed the number in {} guesses!\".format(guesses))\n",
    "\n",
    "# Start the game\n",
    "guess_number()\n"
   ]
  },
  {
   "cell_type": "code",
   "execution_count": 80,
   "metadata": {},
   "outputs": [
    {
     "name": "stdout",
     "output_type": "stream",
     "text": [
      "Choisir un nombre entre 1 et 100 pour que le programme devine: 2.5\n",
      "Entrée non valide. Veuillez entrer un nombre entier.\n",
      "Choisir un nombre entre 1 et 100 pour que le programme devine: 2\n",
      "The program guessed the number in 7 guesses!\n"
     ]
    }
   ],
   "source": [
    "def guess_number():\n",
    "    while True:\n",
    "        try:\n",
    "            # Get the number to guess from the player\n",
    "            number = int(input(\"Choisir un nombre entre 1 et 100 pour que le programme devine: \"))\n",
    "            break\n",
    "        except ValueError:\n",
    "            print(\"Entrée non valide. Veuillez entrer un nombre entier.\")\n",
    "\n",
    "    # Initialize the lower and upper bounds of the range\n",
    "    lower = 1\n",
    "    upper = 100\n",
    "\n",
    "    # Keep track of the number of guesses\n",
    "    guesses = 1\n",
    "\n",
    "    # Loop until the program guesses the number\n",
    "    while True:\n",
    "        guess = (lower + upper) // 2\n",
    "\n",
    "        if guess == number:\n",
    "            break\n",
    "        elif guess < number:\n",
    "            lower = guess + 1\n",
    "        else:\n",
    "            upper = guess - 1\n",
    "        guesses += 1\n",
    "\n",
    "    # Print a message to let the player know the program guessed the number\n",
    "    print(\"The program guessed the number in\", guesses, \"guesses!\")\n",
    "\n",
    "# Start the game\n",
    "guess_number()\n"
   ]
  },
  {
   "cell_type": "code",
   "execution_count": null,
   "metadata": {},
   "outputs": [],
   "source": []
  },
  {
   "cell_type": "code",
   "execution_count": null,
   "metadata": {},
   "outputs": [],
   "source": []
  }
 ],
 "metadata": {
  "kernelspec": {
   "display_name": "Python 3",
   "language": "python",
   "name": "python3"
  },
  "language_info": {
   "codemirror_mode": {
    "name": "ipython",
    "version": 3
   },
   "file_extension": ".py",
   "mimetype": "text/x-python",
   "name": "python",
   "nbconvert_exporter": "python",
   "pygments_lexer": "ipython3",
   "version": "3.8.3"
  }
 },
 "nbformat": 4,
 "nbformat_minor": 4
}
